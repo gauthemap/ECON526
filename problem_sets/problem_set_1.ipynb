{
  "cells": [
    {
      "cell_type": "markdown",
      "id": "c0264e49-4b64-4573-9566-710b2f1037f8",
      "metadata": {},
      "source": [
        "# ECON526: Assignment 1\n",
        "\n",
        "Jesse Perla, Paul Schrimpf\n",
        "\n",
        "## Setup"
      ]
    },
    {
      "cell_type": "markdown",
      "id": "3c1d675b",
      "metadata": {},
      "source": [
        "Name: Gauthem Arvind Pradeep, Student ID: 96038302"
      ]
    },
    {
      "cell_type": "code",
      "execution_count": 1,
      "id": "eda8fe9c-2eed-48b8-90f0-1686e73682ac",
      "metadata": {},
      "outputs": [],
      "source": [
        "import numpy as np\n",
        "import matplotlib.pyplot as plt"
      ]
    },
    {
      "cell_type": "markdown",
      "id": "6c64d1fb-8149-401a-bfa5-dfd05ed41b2f",
      "metadata": {},
      "source": [
        "Install Python (with Jupyter and/or VS Code as you wish) and git.\n",
        "\n",
        "-   See [here](https://github.com/ubcecon/ECON526#computing-environment)\n",
        "    for very instructions and links.\n",
        "-   VS Code is optional but recommended.\n",
        "\n",
        "## Q1\n",
        "\n",
        "Modify the next cell with some math text with the Pythagorean theorem\n",
        "(e.g. $x^2 + y^2 = z^2$)"
      ]
    },
    {
      "cell_type": "markdown",
      "id": "0b688641-b35e-41cc-b0ba-92450e2deaee",
      "metadata": {},
      "source": [
        "Pythagoras theorem: $x^2 + y^2 = z^2$  \n",
        "OLS: $y = \\hat{\\beta_1} + \\hat{\\beta_2} x + \\epsilon$"
      ]
    },
    {
      "cell_type": "markdown",
      "id": "c9d5908f-2638-4a74-ba0f-42f8aa7beae4",
      "metadata": {},
      "source": [
        "## Q2\n",
        "\n",
        "Modify the next cell to create a function which takes the sides of the\n",
        "rectangle and calculates the hypotenuse (i.e., code up\n",
        "$z(x,y) = \\sqrt{x^2 + y^2}$) then calculate $z(3,4)$"
      ]
    },
    {
      "cell_type": "code",
      "execution_count": 2,
      "id": "b0c57d02-109f-47b8-a517-c8d73ba3a612",
      "metadata": {},
      "outputs": [
        {
          "name": "stdout",
          "output_type": "stream",
          "text": [
            "The hypotenuse of a right angled triangle with sides 3.0 and 4.0 is 5.0\n"
          ]
        }
      ],
      "source": [
        "def hypotenuse(x,y):\n",
        "    return np.sqrt(x**2 + y**2)\n",
        "\n",
        "def main():\n",
        "    hypo = hypotenuse(3,4)\n",
        "    print(\"The hypotenuse of a right angled triangle with sides 3.0 and 4.0 is\", hypo)\n",
        "\n",
        "main()"
      ]
    },
    {
      "cell_type": "markdown",
      "id": "2a079517-ce46-4ac0-ad83-4922a98bda3a",
      "metadata": {},
      "source": [
        "## Q3\n",
        "\n",
        "Take the following system of equations, build a matrix, and solve for\n",
        "the system of equations using numpy’s `linalg.solve` function.\n",
        "\n",
        "$$\n",
        "\\begin{align}\n",
        "2 x_1 + 3 x_2 &= 5 \\\\\n",
        "4 x_1 + 9 x_2 &= 20\n",
        "\\end{align}\n",
        "$$"
      ]
    },
    {
      "cell_type": "code",
      "execution_count": 3,
      "id": "c8bd7a40-7516-460b-ad46-e63d34a4bb48",
      "metadata": {},
      "outputs": [
        {
          "name": "stdout",
          "output_type": "stream",
          "text": [
            "[-2.5         3.33333333]\n"
          ]
        }
      ],
      "source": [
        "def SysTwoEqs(r1,r2,b):\n",
        "    A = np.array([r1, r2])\n",
        "    b = np.array(b)\n",
        "    x = np.linalg.solve(A, b)\n",
        "    return x\n",
        "\n",
        "def main():\n",
        "    solution = SysTwoEqs([2,3], [4,9], [5,20])\n",
        "    print(solution)\n",
        "\n",
        "main()"
      ]
    },
    {
      "cell_type": "markdown",
      "id": "a7ae4741-4223-4225-bbe1-464f76464ae7",
      "metadata": {},
      "source": [
        "## Q4\n",
        "\n",
        "Now take the following system\n",
        "\n",
        "$$\n",
        "\\begin{align}\n",
        "x_1 + 2 x_2 &= 5 \\\\\n",
        "2 x_1 + 4 x_2 &= 10\n",
        "\\end{align}\n",
        "$$\n",
        "\n",
        "Try this with `linalg.solve`. Why doesn’t it work? If this has a\n",
        "solution, find it and explain."
      ]
    },
    {
      "cell_type": "markdown",
      "id": "5c6f74a6-4d22-4b44-bab3-c33ba490c34b",
      "metadata": {},
      "source": [
        "Let $$A = \\begin{bmatrix} 1 & 2 \\\\ 2 & 4 \\end{bmatrix}, \\quad b = \\begin{bmatrix} 5 \\\\ 10 \\end{bmatrix}$$\n",
        "\n",
        "$$\n",
        "\\implies\n",
        "A|b = \\left[\\begin{array}{cc|c} \n",
        "1 & 2 & 5 \\\\ \n",
        "2 & 4 & 10 \n",
        "\\end{array} \\right]\n",
        "$$\n",
        "\n",
        "The RREF of this matrix will be:\n",
        "\n",
        "$$\n",
        "\\left[\\begin{array}{cc|c} \n",
        "1 & 2 & 5 \\\\ 0 & 0 & 0 \n",
        "\\end{array} \\right]\n",
        "$$\n",
        "\n",
        "$\\implies$ The system has infinite solutions: $x_1 + 2 x_2 = 5$"
      ]
    },
    {
      "cell_type": "markdown",
      "id": "ce441a22-574c-41e7-bd39-c547e32ed6c6",
      "metadata": {},
      "source": [
        "## Q5\n",
        "\n",
        "Plot $f(x) = x^2$ for a grid of 20 points of $x \\in [0,1]$. Hint: You\n",
        "can make a grid with `np.linspace(...)` and use matplotlib’s\n",
        "`plt.plot(...)` function."
      ]
    },
    {
      "cell_type": "code",
      "execution_count": 4,
      "id": "4b01b40b-6c2a-4990-af03-6883f30dbf2f",
      "metadata": {},
      "outputs": [
        {
          "data": {
            "image/png": "[encoded data removed]",
            "text/plain": [
              "<Figure size 640x480 with 1 Axes>"
            ]
          },
          "metadata": {},
          "output_type": "display_data"
        }
      ],
      "source": [
        "x = np.linspace(0,1,20)\n",
        "y = x**2\n",
        "plt.plot(x,y, marker = 'o', color = 'r')\n",
        "plt.xlabel('x')\n",
        "plt.ylabel('f(x)')\n",
        "plt.title(\"f(x) = x^2\")\n",
        "plt.grid(True)\n",
        "plt.show()"
      ]
    }
  ],
  "metadata": {
    "kernelspec": {
      "display_name": "Python 3 (ipykernel)",
      "language": "python",
      "name": "python3"
    },
    "language_info": {
      "codemirror_mode": {
        "name": "ipython",
        "version": 3
      },
      "file_extension": ".py",
      "mimetype": "text/x-python",
      "name": "python",
      "nbconvert_exporter": "python",
      "pygments_lexer": "ipython3",
      "version": "3.11.5"
    }
  },
  "nbformat": 4,
  "nbformat_minor": 5
}
