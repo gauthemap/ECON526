{
  "cells": [
    {
      "cell_type": "markdown",
      "id": "1a3bce72-63fb-4269-84d4-00c330947d5c",
      "metadata": {},
      "source": [
        "# ECON526: Assignment 2"
      ]
    },
    {
      "cell_type": "markdown",
      "id": "f347e2bc-8081-4ea6-a9db-6263024caa52",
      "metadata": {},
      "source": [
        "## Student Name/Number: Gauthem Arvind Pradeep, 96038302"
      ]
    },
    {
      "cell_type": "markdown",
      "id": "0cdd4f1b-19ec-4c25-8c4d-7f1b438b5450",
      "metadata": {},
      "source": [
        "### Instructions\n",
        "\n",
        "-   Ensure you modify the field above with your **name and student\n",
        "    number above immediately**\n",
        "-   Modify directly and save as the `.ipynb`, and submit directly. Do\n",
        "    not export to PDF or HTML, and leave the filename as is. Canvas will\n",
        "    automatically append your name to the filename.\n",
        "-   Submit directly to canvas as a `.ipynb` file.\n",
        "\n",
        "## Setup\n",
        "\n",
        "Use the following packages and imports"
      ]
    },
    {
      "cell_type": "code",
      "execution_count": 42,
      "id": "ed5bdf6f",
      "metadata": {},
      "outputs": [],
      "source": [
        "import numpy as np\n",
        "import matplotlib.pyplot as plt\n",
        "import scipy\n",
        "from numpy.linalg import cond, matrix_rank, norm\n",
        "from scipy.linalg import inv, solve, det, eig, lu, eigvals\n",
        "from scipy.linalg import solve_triangular, eigvalsh, cholesky"
      ]
    },
    {
      "cell_type": "markdown",
      "id": "d6b395d5-da98-406d-a2d5-5d4063d1324b",
      "metadata": {},
      "source": [
        "## Q1.1\n",
        "\n",
        "Generate a random matrix $A \\in \\mathbb{R}^{10\\times 10}$ and random\n",
        "vector $b\\in\\mathbb{R}^{10}$ of uniformly distributed floating points\n",
        "between 0 and 1. Hint: use `np.random.rand(10, 10)`\n",
        "\n",
        "and solve $A x = b$ as a linear system with\n",
        "\n",
        "1.  `scipy.linalg.solve`\n",
        "2.  `scipy.linalg.inv`\n",
        "\n",
        "Modify"
      ]
    },
    {
      "cell_type": "code",
      "execution_count": 71,
      "id": "508a00fd",
      "metadata": {},
      "outputs": [
        {
          "name": "stdout",
          "output_type": "stream",
          "text": [
            "Solve = [  0.30088253   8.33325729  -1.63319803  10.27949328  -2.39181396\n",
            " -10.25663498   7.37771413  -0.84102048  -9.36759822   1.13848971] \n",
            " Inv = [  0.30088253   8.33325729  -1.63319803  10.27949328  -2.39181396\n",
            " -10.25663498   7.37771413  -0.84102048  -9.36759822   1.13848971]\n"
          ]
        }
      ],
      "source": [
        "N = 10\n",
        "A = np.random.rand(N,N)\n",
        "b = np.random.rand(N)\n",
        "x_solve = scipy.linalg.solve(A,b)\n",
        "A_inv = scipy.linalg.inv(A)\n",
        "x_inv = A_inv @ b\n",
        "print(f\"Solve = {x_solve} \\n Inv = {x_inv}\")\n"
      ]
    },
    {
      "cell_type": "markdown",
      "id": "d85b7cf3-05ee-4e57-b347-b493c287ccac",
      "metadata": {},
      "source": [
        "What matrix decomposition would `scipy.linalg.solve` likely use in this\n",
        "case?"
      ]
    },
    {
      "cell_type": "markdown",
      "id": "4dcb5da0-9d89-4db8-835e-325c2c208064",
      "metadata": {},
      "source": [
        "LU decomposition"
      ]
    },
    {
      "cell_type": "markdown",
      "id": "dd6d9df4-5d3c-4db3-ad70-d6d6e2ccb1f3",
      "metadata": {},
      "source": [
        "## Q1.2\n",
        "\n",
        "The product of any matrix with its transpose is symmetric. Prove it.\n",
        "Hint: the definition of symmetric matrix $B$ is if $B = B^T$. Use this\n",
        "to take the transpose of $B \\equiv A^T A$."
      ]
    },
    {
      "cell_type": "markdown",
      "id": "7db40783-ba36-4d2b-bac7-62e725740a55",
      "metadata": {},
      "source": [
        "$$\n",
        "\\text{Let } A \\text{ be a matrix with transpose } A^\\top \\\\\n",
        "\\text{A symmetric matrix X is one such that } X = X^\\top \\\\\n",
        "\\text{Suppose } X = A^\\top A \\\\\n",
        "\\implies X^\\top = (A^\\top A)^\\top = A^\\top (A^\\top)^\\top \\\\\n",
        "\\text{But we know that the transpose of a transpose is the original matrix itself} \\\\\n",
        "\\implies X^\\top = A^\\top A = X \\\\\n",
        "\\implies \\text{The product of any matrix with its transpose is symmetric}\n",
        "$$"
      ]
    },
    {
      "cell_type": "markdown",
      "id": "bf90e41a-8f6d-4d9f-9f6f-abd4809a151f",
      "metadata": {},
      "source": [
        "## Q1.3\n",
        "\n",
        "Using your matrix $A$ from before, construct the symmetric $B = A^T A$.\n",
        "\n",
        "Verify it is symmetric, and then find out if it is positive definite.\n",
        "Hint: you will need to use `eigvals` or `eigs`."
      ]
    },
    {
      "cell_type": "code",
      "execution_count": 99,
      "id": "6bcc645e",
      "metadata": {},
      "outputs": [
        {
          "name": "stdout",
          "output_type": "stream",
          "text": [
            "Is B symmetric? True\n",
            "[  5.73867296   7.06824646   8.65384352   9.6266195  138.34048441]\n",
            "Is matrix B is positive definite? True\n"
          ]
        }
      ],
      "source": [
        "B = A.T @ A\n",
        "print(f\"Is B symmetric? {np.array_equal(B.T, B)}\")\n",
        "B_eigs = eigvalsh(B)\n",
        "print(B_eigs)\n",
        "print(f\"Is matrix B is positive definite? {np.all(B_eigs > 0)}\")"
      ]
    },
    {
      "cell_type": "markdown",
      "id": "3410aa7f-9680-4841-a01f-51c8a8c201dc",
      "metadata": {},
      "source": [
        "## Q1.4\n",
        "\n",
        "Now solve the system $B x = b$ using `solve` and `inv`. If the matrix\n",
        "was shown to be symmetric or positive definite before, then use that in\n",
        "your solution"
      ]
    },
    {
      "cell_type": "code",
      "execution_count": 73,
      "id": "26e4a31b",
      "metadata": {},
      "outputs": [
        {
          "name": "stdout",
          "output_type": "stream",
          "text": [
            "Solve = [  17.08583858 -255.85639672   42.37727687 -303.57459741   83.91504761\n",
            "  277.16300568 -201.99611851   24.84848556  278.49243683   -9.27099601] \n",
            " Inv = [  17.08583858 -255.85639672   42.37727687 -303.57459741   83.91504761\n",
            "  277.16300568 -201.99611851   24.84848556  278.49243683   -9.27099601]\n"
          ]
        }
      ],
      "source": [
        "x_solve = solve(B, b, assume_a= \"pos\")\n",
        "y = inv(L) @ b\n",
        "x_inv = inv(L.T) @ y\n",
        "\n",
        "print(f\"Solve = {x_solve} \\n Inv = {x_inv}\")\n"
      ]
    },
    {
      "cell_type": "markdown",
      "id": "c900fce8-a1ec-44fa-835c-1eeb3d8deae6",
      "metadata": {},
      "source": [
        "## Q2.1\n",
        "\n",
        "Take the matrix $A \\in \\mathbb{R}^{100 \\times 5}$\n",
        "\n",
        "Check if it is full rank"
      ]
    },
    {
      "cell_type": "code",
      "execution_count": 74,
      "id": "0e143cfc",
      "metadata": {},
      "outputs": [
        {
          "name": "stdout",
          "output_type": "stream",
          "text": [
            "Is A full rank? True\n"
          ]
        }
      ],
      "source": [
        "# modify here\n",
        "N = 100\n",
        "K = 5\n",
        "A = np.random.rand(N, K)\n",
        "rank = matrix_rank(A)\n",
        "print(f\"Is A full rank? {rank == K}\")\n"
      ]
    },
    {
      "cell_type": "markdown",
      "id": "9b7d8a26-bd0f-4693-a5d8-445d61e7febe",
      "metadata": {},
      "source": [
        "## Q2.2\n",
        "\n",
        "Take that previous matrix in Q2.1 and append a new column to it, so that\n",
        "it is now $\\hat{A} \\in \\mathbb{R}^{100 \\times 6}$ such that the matrix\n",
        "will still have a rank of $5$ and not 6. Hint: lots of ways to append a\n",
        "vector to a matrix in numpy, including `numpy.column_stack` and\n",
        "`numpy.concatenate`"
      ]
    },
    {
      "cell_type": "code",
      "execution_count": 87,
      "id": "a8eeecd5",
      "metadata": {},
      "outputs": [
        {
          "data": {
            "text/plain": [
              "5"
            ]
          },
          "execution_count": 87,
          "metadata": {},
          "output_type": "execute_result"
        }
      ],
      "source": [
        "a = np.random.rand(N,1)\n",
        "dep = A[:,3]*6\n",
        "dep = dep.reshape(N,1)\n",
        "A_hat = np.concatenate((A,dep), axis = 1)\n",
        "matrix_rank(A_hat)"
      ]
    },
    {
      "cell_type": "markdown",
      "id": "903bfc22-776c-464c-81bb-6f42c37b6ae2",
      "metadata": {},
      "source": [
        "## Q2.3\n",
        "\n",
        "Take the $A$ and the $\\hat{A}$ from before, and form $B = A A^T$ and\n",
        "$\\hat{B} = \\hat{A} \\hat{A}^T$. What are there ranks?"
      ]
    },
    {
      "cell_type": "code",
      "execution_count": 96,
      "id": "23eee5bc",
      "metadata": {},
      "outputs": [
        {
          "name": "stdout",
          "output_type": "stream",
          "text": [
            "5 5\n"
          ]
        }
      ],
      "source": [
        "B = A @ A.T\n",
        "B_hat = A_hat @ A_hat.T\n",
        "print(matrix_rank(B), matrix_rank(B_hat))"
      ]
    },
    {
      "cell_type": "markdown",
      "id": "249b23ec-361e-49df-846b-8082fcc6cfad",
      "metadata": {},
      "source": [
        "Could we do a cholesky decomposition of this matrix? Check and/or\n",
        "explain why not if you can’t"
      ]
    },
    {
      "cell_type": "code",
      "execution_count": 103,
      "id": "1a34219d",
      "metadata": {},
      "outputs": [
        {
          "name": "stdout",
          "output_type": "stream",
          "text": [
            "The matrix [[33.37307344 26.4539975  24.9244946  28.04083291 25.76780316]\n",
            " [26.4539975  34.86669706 26.26636594 27.38824081 24.85194508]\n",
            " [24.9244946  26.26636594 32.43916958 26.1846939  25.70803688]\n",
            " [28.04083291 27.38824081 26.1846939  35.76747782 25.38390094]\n",
            " [25.76780316 24.85194508 25.70803688 25.38390094 32.98144894]] is positive definite\n",
            "The matrix [[10.68583364 16.28325552 17.53291604 ... 17.1064749  14.92976903\n",
            "  18.84663747]\n",
            " [16.28325552 27.22437639 28.95278477 ... 28.10432026 24.58802005\n",
            "  30.16807589]\n",
            " [17.53291604 28.95278477 31.84844487 ... 30.67403207 26.93608307\n",
            "  32.92813315]\n",
            " ...\n",
            " [17.1064749  28.10432026 30.67403207 ... 29.8273533  26.11557937\n",
            "  32.20479931]\n",
            " [14.92976903 24.58802005 26.93608307 ... 26.11557937 23.18520154\n",
            "  28.23959498]\n",
            " [18.84663747 30.16807589 32.92813315 ... 32.20479931 28.23959498\n",
            "  35.12194958]] is not positive definite, so a Cholesky decomposition will not work\n"
          ]
        }
      ],
      "source": [
        "for mat in [B, B_hat]:\n",
        "    try:\n",
        "        L = cholesky(mat, lower = True)\n",
        "        if np.allclose(L @ L.T, mat):\n",
        "            print(f\"The matrix {mat} is positive definite\")\n",
        "    except np.linalg.LinAlgError:\n",
        "            print(f\"The matrix {mat} is not positive definite, so a Cholesky decomposition will not work\")"
      ]
    },
    {
      "cell_type": "markdown",
      "id": "ea904eb7-ced2-44d4-b587-81d42cc337bb",
      "metadata": {},
      "source": [
        "## Q3.1\n",
        "\n",
        "Take the following $B\\in\\mathbb{R}^{N\\times N}$ symmetric matrix and do\n",
        "an eigendecomposition (spectral decomposition in this case since\n",
        "symmetric), and print out the eigenvalues"
      ]
    },
    {
      "cell_type": "code",
      "execution_count": 107,
      "id": "8654b138",
      "metadata": {},
      "outputs": [
        {
          "name": "stdout",
          "output_type": "stream",
          "text": [
            "eigenvectors are column-by-column in Q =\n",
            "[[ 0.2649827   0.262182   -0.22408295  0.50829423 -0.08836734  0.09208395\n",
            "  -0.29032736  0.28478029  0.60678287 -0.05104013]\n",
            " [ 0.27065369 -0.2871758  -0.47320277 -0.02756711  0.08844092  0.38347307\n",
            "   0.25357015 -0.11046455 -0.06999399 -0.61913088]\n",
            " [ 0.29230741 -0.15184329  0.27446424  0.33221302  0.75497163 -0.04608285\n",
            "  -0.20910307  0.11310476 -0.27697767 -0.02155656]\n",
            " [ 0.32272851  0.01141992  0.16002213 -0.56418121  0.00230132  0.53841734\n",
            "  -0.19145731  0.42182818  0.03296216  0.21500797]\n",
            " [ 0.33722078  0.25885222 -0.49759387 -0.27993534  0.14485901 -0.22058942\n",
            "  -0.38150038 -0.45801862 -0.1010957   0.2410943 ]\n",
            " [ 0.35748989  0.23675342  0.17744429 -0.32164882  0.21446408 -0.45296081\n",
            "   0.50974436  0.0908483   0.36321622 -0.17325495]\n",
            " [ 0.35208433 -0.62060279 -0.208481    0.07319517 -0.30295921 -0.39274717\n",
            "   0.05565882  0.31292498 -0.10426023  0.2900727 ]\n",
            " [ 0.20519572  0.49564035  0.01998649  0.0964111  -0.33118007 -0.14974837\n",
            "  -0.04652646  0.32750642 -0.6046124  -0.30895737]\n",
            " [ 0.35525158  0.18325585  0.08819031  0.34019529 -0.11111567  0.3486738\n",
            "   0.51206995 -0.29384471 -0.13378308  0.46510737]\n",
            " [ 0.36488933 -0.19533898  0.54240282  0.00196849 -0.36550209 -0.01925007\n",
            "  -0.31332428 -0.45431749  0.11243501 -0.28864045]]\n",
            "eigenvalues are in Lambda = [1.05669222e+02+0.j 9.64371616e+00+0.j 7.00943713e+00+0.j\n",
            " 4.93956580e+00+0.j 3.42675141e+00+0.j 2.58081965e+00+0.j\n",
            " 1.69589003e+00+0.j 3.88002614e-01+0.j 8.40519364e-02+0.j\n",
            " 2.05994873e-02+0.j]\n",
            "Q Lambda Q^T =\n",
            "[[ 9.96477905  7.45076693  8.06562307  7.66716408 10.21108936  9.12739486\n",
            "   8.80059319  7.30272149 10.9508043   9.09239637]\n",
            " [ 7.45076693 10.63766313  7.91517581  9.17458975 10.29482432  8.85578376\n",
            "  11.9967212   4.1413624   9.85280556  8.935305  ]\n",
            " [ 8.06562307  7.91517581 12.36853355  9.36118632  9.13876531 10.93253307\n",
            "  10.76216015  5.01504005 10.91203554 11.74881334]\n",
            " [ 7.66716408  9.17458975  9.36118632 13.63928347 11.49487601 12.53464427\n",
            "  10.98677786  6.66097551 11.55695637 13.02180006]\n",
            " [10.21108936 10.29482432  9.13876531 11.49487601 15.31303212 13.17005667\n",
            "  11.60676314  8.24251617 11.80915051 10.73083673]\n",
            " [ 9.12739486  8.85578376 10.93253307 12.53464427 13.17005667 15.91941103\n",
            "  11.79908029  8.64036174 13.34476488 13.48093127]\n",
            " [ 8.80059319 11.9967212  10.76216015 10.98677786 11.60676314 11.79908029\n",
            "  17.90300325  5.20791519 11.89284759 14.2642018 ]\n",
            " [ 7.30272149  4.1413624   5.01504005  6.66097551  8.24251617  8.64036174\n",
            "   5.20791519  7.37871674  8.67061281  7.44044115]\n",
            " [10.9508043   9.85280556 10.91203554 11.55695637 11.80915051 13.34476488\n",
            "  11.89284759  8.67061281 15.12611262 13.58854496]\n",
            " [ 9.09239637  8.935305   11.74881334 13.02180006 10.73083673 13.48093127\n",
            "  14.2642018   7.44044115 13.58854496 17.20752153]]\n",
            "Is A = Q Lambda Q^T? True\n"
          ]
        }
      ],
      "source": [
        "N = 10\n",
        "A = 2.0 * np.random.rand(N, N)\n",
        "B = A.T @ A\n",
        "\n",
        "Lambda, Q = eig(B)\n",
        "print(f\"eigenvectors are column-by-column in Q =\\n{Q}\")\n",
        "print(f\"eigenvalues are in Lambda = {Lambda}\")\n",
        "QLQ = Q @ np.diag(np.real(Lambda)) @ Q.T\n",
        "print(f\"Q Lambda Q^T =\\n{QLQ}\")\n",
        "print(f\"Is A = Q Lambda Q^T? {np.allclose(QLQ, B)}\")"
      ]
    },
    {
      "cell_type": "markdown",
      "id": "fb1c79af-8022-4891-b1a6-9dbe10f63e53",
      "metadata": {},
      "source": [
        "## Q3.2\n",
        "\n",
        "For your matrix above, calculate its spectral radius"
      ]
    },
    {
      "cell_type": "code",
      "execution_count": 108,
      "id": "1129831c",
      "metadata": {},
      "outputs": [
        {
          "name": "stdout",
          "output_type": "stream",
          "text": [
            "The spectral radius of B is 105.66922225634593\n"
          ]
        }
      ],
      "source": [
        "spectral_radius = np.max(np.abs(Lambda))\n",
        "print(f\"The spectral radius of B is {spectral_radius}\")"
      ]
    },
    {
      "cell_type": "markdown",
      "id": "22629cd5-3005-4835-b870-f910d8dcdd43",
      "metadata": {},
      "source": [
        "## Q4.1\n",
        "\n",
        "Take the vector $\\hat{x}_1\\in \\mathbb{R}^2$"
      ]
    },
    {
      "cell_type": "code",
      "execution_count": 111,
      "id": "6c091b5f",
      "metadata": {},
      "outputs": [],
      "source": [
        "x_hat_1 = np.array([1, 2])"
      ]
    },
    {
      "cell_type": "markdown",
      "id": "ce738605-9923-47b3-b734-e127c16584a6",
      "metadata": {},
      "source": [
        "Verify that it is not a unit length vector (i.e. $\\|\\hat{x}_1\\| \\neq 1$)\n",
        "then create a new $x_1$ that is a unit length vector in the same\n",
        "direction as $\\hat{x}_1$ (i.e. $||x_1|| = 1$)"
      ]
    },
    {
      "cell_type": "code",
      "execution_count": 119,
      "id": "3bf2bd7d",
      "metadata": {},
      "outputs": [
        {
          "name": "stdout",
          "output_type": "stream",
          "text": [
            "Is the length of x_hat_1 = 1? False\n",
            "[0.4472136  0.89442719]\n",
            "Is the length of x_1 = 1? 0.9999999999999999\n"
          ]
        }
      ],
      "source": [
        "print(f\"Is the length of x_hat_1 = 1? {norm(x_hat_1) == 1}\")\n",
        "x_1 = x_hat_1 / norm(x_hat_1)\n",
        "print(x_1)\n",
        "print(f\"What is the norm of x_1 = 1? {norm(x_1)}\")"
      ]
    },
    {
      "cell_type": "markdown",
      "id": "be66b996-8d0f-4b13-83f6-f308928e0a7a",
      "metadata": {},
      "source": [
        "## Q4.2\n",
        "\n",
        "Now find a $x_2$ which is also a unit length vector, but is orthogonal\n",
        "to $x_1$. Check it with `np.dot(x_1, x_2)` approx 0 and `norm(x_2)`\n",
        "approx 1. Hint: many ways to do this by hand in $\\mathbb{R}^2$ and\n",
        "fulfill the requirements, such as simple rotations."
      ]
    },
    {
      "cell_type": "code",
      "execution_count": 122,
      "id": "e9cebfe4",
      "metadata": {},
      "outputs": [
        {
          "name": "stdout",
          "output_type": "stream",
          "text": [
            "What is the norm of x_1 = 1? 0.9999999999999999\n",
            "What is the dot product between x_1 and x_2? 0.0\n"
          ]
        }
      ],
      "source": [
        "x_2 = np.array([2,-1]) / norm(x_hat_1)\n",
        "print(f\"What is the norm of x_1 = 1? {norm(x_1)}\")\n",
        "print(f\"What is the dot product between x_1 and x_2? {np.dot(x_1,x_2)}\")\n"
      ]
    },
    {
      "cell_type": "markdown",
      "id": "facbb771-58c0-4064-96fd-8e4791efec8d",
      "metadata": {},
      "source": [
        "## Q4.3\n",
        "\n",
        "The vectors $x_1$ and $x_2$ are now an orthonormal set. Form the matrix\n",
        "$Q = \\begin{bmatrix} x_1 & | & x_2\\end{bmatrix}$ and verify the\n",
        "condition for orthonormality (i.e. $Q^T Q = I\\implies Q^{-1} = Q^T$)"
      ]
    },
    {
      "cell_type": "code",
      "execution_count": 143,
      "id": "223e984f",
      "metadata": {},
      "outputs": [
        {
          "name": "stdout",
          "output_type": "stream",
          "text": [
            "Is Q^T * Q is equal to I? True\n"
          ]
        }
      ],
      "source": [
        "Q = np.column_stack((x_1, x_2))\n",
        "QTQ = Q.T @ Q\n",
        "I = np.eye(QTQ.shape[0])\n",
        "print(f\"Is Q^T * Q is equal to I? {np.allclose(QTQ, I)}\")"
      ]
    },
    {
      "cell_type": "markdown",
      "id": "d7834811-6055-49ba-afd9-4507bc7d7cac",
      "metadata": {},
      "source": [
        "## Q4.4\n",
        "\n",
        "Create a matrix $A$ such that: 1. $Q$ are its eigenvectors 2. The\n",
        "spectral radius of $A$ is $1.0$ 3. $A$ is positive definite.\n",
        "\n",
        "Hint: create a matrix of eigenvalues $\\Lambda$ and then do an\n",
        "eigendecomposition in reverse"
      ]
    },
    {
      "cell_type": "code",
      "execution_count": 153,
      "id": "351f13dd",
      "metadata": {},
      "outputs": [
        {
          "name": "stdout",
          "output_type": "stream",
          "text": [
            "[[0.44 0.28]\n",
            " [0.28 0.86]]\n"
          ]
        }
      ],
      "source": [
        "diag = [1, 0.3] # maximum absolute eigenvalue is 1 and both eigenvalues are positive so spactral radius is 1 and matrix is positive definite\n",
        "Lambda = np.diag(diag)\n",
        "A = Q @ Lambda @ Q.T\n",
        "print(A)\n"
      ]
    }
  ],
  "metadata": {
    "kernelspec": {
      "display_name": "Python 3 (ipykernel)",
      "language": "python",
      "name": "python3"
    },
    "language_info": {
      "codemirror_mode": {
        "name": "ipython",
        "version": 3
      },
      "file_extension": ".py",
      "mimetype": "text/x-python",
      "name": "python",
      "nbconvert_exporter": "python",
      "pygments_lexer": "ipython3",
      "version": "3.11.5"
    }
  },
  "nbformat": 4,
  "nbformat_minor": 5
}
