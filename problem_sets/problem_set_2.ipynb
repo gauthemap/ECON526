{
  "cells": [
    {
      "cell_type": "markdown",
      "id": "1a3bce72-63fb-4269-84d4-00c330947d5c",
      "metadata": {},
      "source": [
        "# ECON526: Assignment 2"
      ]
    },
    {
      "cell_type": "markdown",
      "id": "f347e2bc-8081-4ea6-a9db-6263024caa52",
      "metadata": {},
      "source": [
        "## Student Name/Number: Gauthem Arvind Pradeep, 96038302"
      ]
    },
    {
      "cell_type": "markdown",
      "id": "0cdd4f1b-19ec-4c25-8c4d-7f1b438b5450",
      "metadata": {},
      "source": [
        "### Instructions\n",
        "\n",
        "-   Ensure you modify the field above with your **name and student\n",
        "    number above immediately**\n",
        "-   Modify directly and save as the `.ipynb`, and submit directly. Do\n",
        "    not export to PDF or HTML, and leave the filename as is. Canvas will\n",
        "    automatically append your name to the filename.\n",
        "-   Submit directly to canvas as a `.ipynb` file.\n",
        "\n",
        "## Setup\n",
        "\n",
        "Use the following packages and imports"
      ]
    },
    {
      "cell_type": "code",
      "execution_count": 1,
      "id": "ed5bdf6f",
      "metadata": {},
      "outputs": [],
      "source": [
        "import numpy as np\n",
        "import matplotlib.pyplot as plt\n",
        "import scipy\n",
        "from numpy.linalg import cond, matrix_rank, norm\n",
        "from scipy.linalg import inv, solve, det, eig, lu, eigvals\n",
        "from scipy.linalg import solve_triangular, eigvalsh, cholesky"
      ]
    },
    {
      "cell_type": "markdown",
      "id": "d6b395d5-da98-406d-a2d5-5d4063d1324b",
      "metadata": {},
      "source": [
        "## Q1.1\n",
        "\n",
        "Generate a random matrix $A \\in \\mathbb{R}^{10\\times 10}$ and random\n",
        "vector $b\\in\\mathbb{R}^{10}$ of uniformly distributed floating points\n",
        "between 0 and 1. Hint: use `np.random.rand(10, 10)`\n",
        "\n",
        "and solve $A x = b$ as a linear system with\n",
        "\n",
        "1.  `scipy.linalg.solve`\n",
        "2.  `scipy.linalg.inv`\n",
        "\n",
        "Modify"
      ]
    },
    {
      "cell_type": "code",
      "execution_count": 2,
      "id": "508a00fd",
      "metadata": {},
      "outputs": [
        {
          "name": "stdout",
          "output_type": "stream",
          "text": [
            "Solve = [-1.92536549 -0.2405554   0.54527656 -1.1792923   1.46662598 -0.58880388\n",
            "  0.22395118  0.69874033  0.75077996  1.65283251] \n",
            " Inv = [-1.92536549 -0.2405554   0.54527656 -1.1792923   1.46662598 -0.58880388\n",
            "  0.22395118  0.69874033  0.75077996  1.65283251]\n"
          ]
        }
      ],
      "source": [
        "N = 10\n",
        "A = np.random.rand(N,N)\n",
        "b = np.random.rand(N)\n",
        "x_solve = scipy.linalg.solve(A,b)\n",
        "A_inv = scipy.linalg.inv(A)\n",
        "x_inv = A_inv @ b\n",
        "print(f\"Solve = {x_solve} \\n Inv = {x_inv}\")\n"
      ]
    },
    {
      "cell_type": "markdown",
      "id": "d85b7cf3-05ee-4e57-b347-b493c287ccac",
      "metadata": {},
      "source": [
        "What matrix decomposition would `scipy.linalg.solve` likely use in this\n",
        "case?"
      ]
    },
    {
      "cell_type": "markdown",
      "id": "4dcb5da0-9d89-4db8-835e-325c2c208064",
      "metadata": {},
      "source": [
        "LU decomposition"
      ]
    },
    {
      "cell_type": "markdown",
      "id": "dd6d9df4-5d3c-4db3-ad70-d6d6e2ccb1f3",
      "metadata": {},
      "source": [
        "## Q1.2\n",
        "\n",
        "The product of any matrix with its transpose is symmetric. Prove it.\n",
        "Hint: the definition of symmetric matrix $B$ is if $B = B^T$. Use this\n",
        "to take the transpose of $B \\equiv A^T A$."
      ]
    },
    {
      "cell_type": "markdown",
      "id": "7db40783-ba36-4d2b-bac7-62e725740a55",
      "metadata": {},
      "source": [
        "$$\n",
        "\\text{Let } A \\text{ be a matrix with transpose } A^\\top \\\\\n",
        "\\text{A symmetric matrix X is one such that } X = X^\\top \\\\\n",
        "\\text{Suppose } X = A^\\top A \\\\\n",
        "\\implies X^\\top = (A^\\top A)^\\top = A^\\top (A^\\top)^\\top \\\\\n",
        "\\text{But we know that the transpose of a transpose is the original matrix itself} \\\\\n",
        "\\implies X^\\top = A^\\top A = X \\\\\n",
        "\\implies \\text{The product of any matrix with its transpose is symmetric}\n",
        "$$"
      ]
    },
    {
      "cell_type": "markdown",
      "id": "bf90e41a-8f6d-4d9f-9f6f-abd4809a151f",
      "metadata": {},
      "source": [
        "## Q1.3\n",
        "\n",
        "Using your matrix $A$ from before, construct the symmetric $B = A^T A$.\n",
        "\n",
        "Verify it is symmetric, and then find out if it is positive definite.\n",
        "Hint: you will need to use `eigvals` or `eigs`."
      ]
    },
    {
      "cell_type": "code",
      "execution_count": 3,
      "id": "6bcc645e",
      "metadata": {},
      "outputs": [
        {
          "name": "stdout",
          "output_type": "stream",
          "text": [
            "Is B symmetric? True\n",
            "[5.62739353e-03 2.77054595e-02 8.50851529e-02 1.86563469e-01\n",
            " 4.22246947e-01 7.92575994e-01 1.09582261e+00 1.52823424e+00\n",
            " 1.77780413e+00 2.72843464e+01]\n",
            "Is matrix B is positive definite? True\n"
          ]
        }
      ],
      "source": [
        "B = A.T @ A\n",
        "print(f\"Is B symmetric? {np.array_equal(B.T, B)}\")\n",
        "B_eigs = eigvalsh(B)\n",
        "print(B_eigs)\n",
        "print(f\"Is matrix B is positive definite? {np.all(B_eigs > 0)}\")"
      ]
    },
    {
      "cell_type": "markdown",
      "id": "3410aa7f-9680-4841-a01f-51c8a8c201dc",
      "metadata": {},
      "source": [
        "## Q1.4\n",
        "\n",
        "Now solve the system $B x = b$ using `solve` and `inv`. If the matrix\n",
        "was shown to be symmetric or positive definite before, then use that in\n",
        "your solution"
      ]
    },
    {
      "cell_type": "code",
      "execution_count": 4,
      "id": "26e4a31b",
      "metadata": {},
      "outputs": [
        {
          "name": "stdout",
          "output_type": "stream",
          "text": [
            "Solve = [-14.71967526  -6.97793235   0.09631141 -10.8063208    9.30960997\n",
            "   0.55381241   3.2784164   -2.92746534   9.10945237  14.0947329 ] \n",
            " Inv = [-14.71967526  -6.97793235   0.09631141 -10.8063208    9.30960997\n",
            "   0.55381241   3.2784164   -2.92746534   9.10945237  14.0947329 ]\n"
          ]
        }
      ],
      "source": [
        "x_solve = solve(B, b, assume_a= \"pos\")\n",
        "L = cholesky(B, lower = True) #can only be used if matrix is positive definite\n",
        "y = inv(L) @ b\n",
        "x_inv = inv(L.T) @ y\n",
        "print(f\"Solve = {x_solve} \\n Inv = {x_inv}\")\n"
      ]
    },
    {
      "cell_type": "markdown",
      "id": "c900fce8-a1ec-44fa-835c-1eeb3d8deae6",
      "metadata": {},
      "source": [
        "## Q2.1\n",
        "\n",
        "Take the matrix $A \\in \\mathbb{R}^{100 \\times 5}$\n",
        "\n",
        "Check if it is full rank"
      ]
    },
    {
      "cell_type": "code",
      "execution_count": 5,
      "id": "0e143cfc",
      "metadata": {},
      "outputs": [
        {
          "name": "stdout",
          "output_type": "stream",
          "text": [
            "Is A full rank? True\n"
          ]
        }
      ],
      "source": [
        "# modify here\n",
        "N = 100\n",
        "K = 5\n",
        "A = np.random.rand(N, K)\n",
        "rank = matrix_rank(A)\n",
        "print(f\"Is A full rank? {rank == K}\")\n"
      ]
    },
    {
      "cell_type": "markdown",
      "id": "9b7d8a26-bd0f-4693-a5d8-445d61e7febe",
      "metadata": {},
      "source": [
        "## Q2.2\n",
        "\n",
        "Take that previous matrix in Q2.1 and append a new column to it, so that\n",
        "it is now $\\hat{A} \\in \\mathbb{R}^{100 \\times 6}$ such that the matrix\n",
        "will still have a rank of $5$ and not 6. Hint: lots of ways to append a\n",
        "vector to a matrix in numpy, including `numpy.column_stack` and\n",
        "`numpy.concatenate`"
      ]
    },
    {
      "cell_type": "code",
      "execution_count": 6,
      "id": "a8eeecd5",
      "metadata": {},
      "outputs": [
        {
          "data": {
            "text/plain": [
              "5"
            ]
          },
          "execution_count": 6,
          "metadata": {},
          "output_type": "execute_result"
        }
      ],
      "source": [
        "a = np.random.rand(N,1)\n",
        "dep = A[:,3]*6\n",
        "dep = dep.reshape(N,1)\n",
        "A_hat = np.concatenate((A,dep), axis = 1)\n",
        "matrix_rank(A_hat)"
      ]
    },
    {
      "cell_type": "markdown",
      "id": "903bfc22-776c-464c-81bb-6f42c37b6ae2",
      "metadata": {},
      "source": [
        "## Q2.3\n",
        "\n",
        "Take the $A$ and the $\\hat{A}$ from before, and form $B = A A^T$ and\n",
        "$\\hat{B} = \\hat{A} \\hat{A}^T$. What are there ranks?"
      ]
    },
    {
      "cell_type": "code",
      "execution_count": 7,
      "id": "23eee5bc",
      "metadata": {},
      "outputs": [
        {
          "name": "stdout",
          "output_type": "stream",
          "text": [
            "5 5\n"
          ]
        }
      ],
      "source": [
        "B = A @ A.T\n",
        "B_hat = A_hat @ A_hat.T\n",
        "print(matrix_rank(B), matrix_rank(B_hat))"
      ]
    },
    {
      "cell_type": "markdown",
      "id": "249b23ec-361e-49df-846b-8082fcc6cfad",
      "metadata": {},
      "source": [
        "Could we do a cholesky decomposition of this matrix? Check and/or\n",
        "explain why not if you can’t"
      ]
    },
    {
      "cell_type": "code",
      "execution_count": 8,
      "id": "1a34219d",
      "metadata": {},
      "outputs": [
        {
          "name": "stdout",
          "output_type": "stream",
          "text": [
            "The matrix [[1.34982623 0.56202202 0.33440342 ... 0.69950901 0.31871941 1.31487696]\n",
            " [0.56202202 0.31068967 0.35057676 ... 0.54439797 0.24390903 0.75037495]\n",
            " [0.33440342 0.35057676 0.92075365 ... 0.93829523 0.63157945 1.136895  ]\n",
            " ...\n",
            " [0.69950901 0.54439797 0.93829523 ... 1.50969264 0.66181294 1.38490745]\n",
            " [0.31871941 0.24390903 0.63157945 ... 0.66181294 0.4901498  0.85767357]\n",
            " [1.31487696 0.75037495 1.136895   ... 1.38490745 0.85767357 2.20625192]] is not positive definite, so a Cholesky decomposition will not work\n",
            "The matrix [[ 2.85004577  1.07753361  0.77780702 ...  5.04013741  1.65202424\n",
            "   1.92920094]\n",
            " [ 1.07753361  0.48783188  0.50294092 ...  2.0359425   0.7020647\n",
            "   0.96147147]\n",
            " [ 0.77780702  0.50294092  1.05180563 ...  2.22120764  1.02564989\n",
            "   1.31846407]\n",
            " ...\n",
            " [ 5.04013741  2.0359425   2.22120764 ... 14.06855784  4.5195022\n",
            "   3.16234872]\n",
            " [ 1.65202424  0.7020647   1.02564989 ...  4.5195022   1.67511087\n",
            "   1.40364775]\n",
            " [ 1.92920094  0.96147147  1.31846407 ...  3.16234872  1.40364775\n",
            "   2.45781107]] is not positive definite, so a Cholesky decomposition will not work\n"
          ]
        }
      ],
      "source": [
        "for mat in [B, B_hat]:\n",
        "    try:\n",
        "        L = cholesky(mat, lower = True)\n",
        "        if np.allclose(L @ L.T, mat):\n",
        "            print(f\"The matrix {mat} is positive definite\")\n",
        "    except np.linalg.LinAlgError:\n",
        "            print(f\"The matrix {mat} is not positive definite, so a Cholesky decomposition will not work\")"
      ]
    },
    {
      "cell_type": "markdown",
      "id": "ea904eb7-ced2-44d4-b587-81d42cc337bb",
      "metadata": {},
      "source": [
        "## Q3.1\n",
        "\n",
        "Take the following $B\\in\\mathbb{R}^{N\\times N}$ symmetric matrix and do\n",
        "an eigendecomposition (spectral decomposition in this case since\n",
        "symmetric), and print out the eigenvalues"
      ]
    },
    {
      "cell_type": "code",
      "execution_count": 9,
      "id": "8654b138",
      "metadata": {},
      "outputs": [
        {
          "name": "stdout",
          "output_type": "stream",
          "text": [
            "eigenvectors are column-by-column in Q =\n",
            "[[ 0.38429208  0.33598558  0.09444257 -0.05431447  0.20937603 -0.37056376\n",
            "   0.37899523  0.61879437  0.14080011 -0.0062835 ]\n",
            " [ 0.34817672 -0.40645442 -0.1592227  -0.26608016  0.33094627  0.27149446\n",
            "   0.20141504 -0.09380129  0.08885755 -0.61393829]\n",
            " [ 0.30987785 -0.40337089  0.42875003 -0.04081137 -0.51595892  0.32656522\n",
            "   0.16718085  0.17842415  0.21828607  0.27474283]\n",
            " [ 0.36976552  0.51621942  0.02229757 -0.07641992 -0.56295491 -0.01826651\n",
            "  -0.04166947 -0.2841435  -0.15373575 -0.40877052]\n",
            " [ 0.32606636 -0.35304032  0.16305183 -0.11909821  0.06233532 -0.67393942\n",
            "   0.01259151 -0.42724854 -0.21641495  0.20163744]\n",
            " [ 0.3050277  -0.13692272 -0.58333531 -0.15245376 -0.1775221  -0.11790208\n",
            "  -0.57870612  0.24908992  0.24967321  0.14138517]\n",
            " [ 0.20986925 -0.12413755 -0.45895743  0.351321   -0.09652541  0.17499786\n",
            "   0.32720476  0.12237636 -0.6392192   0.18945944]\n",
            " [ 0.29990706  0.13251854  0.39375715 -0.13376418  0.35345133  0.30121268\n",
            "  -0.51186251  0.14923097 -0.45670506  0.10510706]\n",
            " [ 0.25019718 -0.06877115  0.14143543  0.85977539  0.12187383 -0.05465814\n",
            "  -0.21763387 -0.06346736  0.24848482 -0.20609741]\n",
            " [ 0.31998845  0.33411356 -0.16984812 -0.02803837  0.28108076  0.29926354\n",
            "   0.18606132 -0.45810597  0.33600393  0.47999729]]\n",
            "eigenvalues are in Lambda = [1.16844268e+02+0.j 1.08304857e+01+0.j 9.45568494e+00+0.j\n",
            " 4.74500977e+00+0.j 2.71759541e+00+0.j 6.91654048e-03+0.j\n",
            " 3.22094184e-01+0.j 5.14860295e-01+0.j 1.05424461e+00+0.j\n",
            " 1.59355854e+00+0.j]\n",
            "Q Lambda Q^T =\n",
            "[[18.96101473 14.28294135 12.65230162 18.0867895  13.40123904 12.66022013\n",
            "   8.39827173 14.45140797 10.950553   15.52057692]\n",
            " [14.28294135 17.4543161  13.07874224 12.72362689 14.58288529 13.75836094\n",
            "   9.01548348 11.32607866  9.50628743 11.68765784]\n",
            " [12.65230162 13.07874224 15.64831628 11.78487687 13.94343622  9.66678554\n",
            "   6.31289465 11.33432625  9.54473297  9.3051322 ]\n",
            " [18.0867895  12.72362689 11.78487687 20.08883451 12.06222306 12.45585162\n",
            "   8.25473927 13.27971626 10.06306397 14.93478388]\n",
            " [13.40123904 14.58288529 13.94343622 12.06222306 14.31327684 11.23337436\n",
            "   7.72827097 11.76367276  9.43845685 10.89301743]\n",
            " [12.66022013 13.75836094  9.66678554 12.45585162 11.23337436 14.72545237\n",
            "   9.81693468  8.26451186  7.60975039 11.83360081]\n",
            " [ 8.39827173  9.01548348  6.31289465  8.25473927  7.72827097  9.81693468\n",
            "   8.44643324  5.44697023  6.75862198  7.92377885]\n",
            " [14.45140797 11.32607866 11.33432625 13.27971626 11.76367276  8.26451186\n",
            "   5.44697023 12.92410587  8.64349476 11.20147048]\n",
            " [10.950553    9.50628743  9.54473297 10.06306397  9.43845685  7.60975039\n",
            "   6.75862198  8.64349476 11.25273871  8.78946905]\n",
            " [15.52057692 11.68765784  9.3051322  14.93478388 10.89301743 11.83360081\n",
            "   7.92377885 11.20147048  8.78946905 14.27022956]]\n",
            "Is A = Q Lambda Q^T? True\n"
          ]
        }
      ],
      "source": [
        "N = 10\n",
        "A = 2.0 * np.random.rand(N, N)\n",
        "B = A.T @ A\n",
        "\n",
        "Lambda, Q = eig(B)\n",
        "print(f\"eigenvectors are column-by-column in Q =\\n{Q}\")\n",
        "print(f\"eigenvalues are in Lambda = {Lambda}\")\n",
        "QLQ = Q @ np.diag(np.real(Lambda)) @ Q.T\n",
        "print(f\"Q Lambda Q^T =\\n{QLQ}\")\n",
        "print(f\"Is A = Q Lambda Q^T? {np.allclose(QLQ, B)}\")"
      ]
    },
    {
      "cell_type": "markdown",
      "id": "fb1c79af-8022-4891-b1a6-9dbe10f63e53",
      "metadata": {},
      "source": [
        "## Q3.2\n",
        "\n",
        "For your matrix above, calculate its spectral radius"
      ]
    },
    {
      "cell_type": "code",
      "execution_count": 10,
      "id": "1129831c",
      "metadata": {},
      "outputs": [
        {
          "name": "stdout",
          "output_type": "stream",
          "text": [
            "The spectral radius of B is 116.84426823044788\n"
          ]
        }
      ],
      "source": [
        "spectral_radius = np.max(np.abs(Lambda))\n",
        "print(f\"The spectral radius of B is {spectral_radius}\")"
      ]
    },
    {
      "cell_type": "markdown",
      "id": "22629cd5-3005-4835-b870-f910d8dcdd43",
      "metadata": {},
      "source": [
        "## Q4.1\n",
        "\n",
        "Take the vector $\\hat{x}_1\\in \\mathbb{R}^2$"
      ]
    },
    {
      "cell_type": "code",
      "execution_count": 11,
      "id": "6c091b5f",
      "metadata": {},
      "outputs": [],
      "source": [
        "x_hat_1 = np.array([1, 2])"
      ]
    },
    {
      "cell_type": "markdown",
      "id": "ce738605-9923-47b3-b734-e127c16584a6",
      "metadata": {},
      "source": [
        "Verify that it is not a unit length vector (i.e. $\\|\\hat{x}_1\\| \\neq 1$)\n",
        "then create a new $x_1$ that is a unit length vector in the same\n",
        "direction as $\\hat{x}_1$ (i.e. $||x_1|| = 1$)"
      ]
    },
    {
      "cell_type": "code",
      "execution_count": 12,
      "id": "3bf2bd7d",
      "metadata": {},
      "outputs": [
        {
          "name": "stdout",
          "output_type": "stream",
          "text": [
            "Is the length of x_hat_1 = 1? False\n",
            "[0.4472136  0.89442719]\n",
            "What is the norm of x_1 = 1? 0.9999999999999999\n"
          ]
        }
      ],
      "source": [
        "print(f\"Is the length of x_hat_1 = 1? {norm(x_hat_1) == 1}\")\n",
        "x_1 = x_hat_1 / norm(x_hat_1)\n",
        "print(x_1)\n",
        "print(f\"What is the norm of x_1 = 1? {norm(x_1)}\")"
      ]
    },
    {
      "cell_type": "markdown",
      "id": "be66b996-8d0f-4b13-83f6-f308928e0a7a",
      "metadata": {},
      "source": [
        "## Q4.2\n",
        "\n",
        "Now find a $x_2$ which is also a unit length vector, but is orthogonal\n",
        "to $x_1$. Check it with `np.dot(x_1, x_2)` approx 0 and `norm(x_2)`\n",
        "approx 1. Hint: many ways to do this by hand in $\\mathbb{R}^2$ and\n",
        "fulfill the requirements, such as simple rotations."
      ]
    },
    {
      "cell_type": "code",
      "execution_count": 13,
      "id": "e9cebfe4",
      "metadata": {},
      "outputs": [
        {
          "name": "stdout",
          "output_type": "stream",
          "text": [
            "What is the norm of x_1 = 1? 0.9999999999999999\n",
            "What is the dot product between x_1 and x_2? 0.0\n"
          ]
        }
      ],
      "source": [
        "x_2 = np.array([2,-1]) / norm(x_hat_1)\n",
        "print(f\"What is the norm of x_1 = 1? {norm(x_1)}\")\n",
        "print(f\"What is the dot product between x_1 and x_2? {np.dot(x_1,x_2)}\")\n"
      ]
    },
    {
      "cell_type": "markdown",
      "id": "facbb771-58c0-4064-96fd-8e4791efec8d",
      "metadata": {},
      "source": [
        "## Q4.3\n",
        "\n",
        "The vectors $x_1$ and $x_2$ are now an orthonormal set. Form the matrix\n",
        "$Q = \\begin{bmatrix} x_1 & | & x_2\\end{bmatrix}$ and verify the\n",
        "condition for orthonormality (i.e. $Q^T Q = I\\implies Q^{-1} = Q^T$)"
      ]
    },
    {
      "cell_type": "code",
      "execution_count": 14,
      "id": "223e984f",
      "metadata": {},
      "outputs": [
        {
          "name": "stdout",
          "output_type": "stream",
          "text": [
            "Is Q^T * Q is equal to I? True\n"
          ]
        }
      ],
      "source": [
        "Q = np.column_stack((x_1, x_2))\n",
        "QTQ = Q.T @ Q\n",
        "I = np.eye(QTQ.shape[0])\n",
        "print(f\"Is Q^T * Q is equal to I? {np.allclose(QTQ, I)}\")"
      ]
    },
    {
      "cell_type": "markdown",
      "id": "d7834811-6055-49ba-afd9-4507bc7d7cac",
      "metadata": {},
      "source": [
        "## Q4.4\n",
        "\n",
        "Create a matrix $A$ such that: 1. $Q$ are its eigenvectors 2. The\n",
        "spectral radius of $A$ is $1.0$ 3. $A$ is positive definite.\n",
        "\n",
        "Hint: create a matrix of eigenvalues $\\Lambda$ and then do an\n",
        "eigendecomposition in reverse"
      ]
    },
    {
      "cell_type": "code",
      "execution_count": 15,
      "id": "351f13dd",
      "metadata": {},
      "outputs": [
        {
          "name": "stdout",
          "output_type": "stream",
          "text": [
            "[[0.44 0.28]\n",
            " [0.28 0.86]]\n"
          ]
        }
      ],
      "source": [
        "diag = [1,0.3] # maximum absolute eigenvalue is 1 and both eigenvalues are positive so spactral radius is 1 and matrix is positive definite\n",
        "Lambda = np.diag(diag)\n",
        "A = Q @ Lambda @ Q.T\n",
        "print(f\"Q = {Q},\\n Lambda = {Lambda},\\n Q^T = {Q.T}\")\n",
        "print(f\"A={A}\")\n",
        "eigvalues, eigvectors = eig(A)\n",
        "print(f\"Eigenvalues of A = {eigvalues} \\n Eigenvectors of A = {eigvectors}\")\n"
      ]
    }
  ],
  "metadata": {
    "kernelspec": {
      "display_name": "Python 3 (ipykernel)",
      "language": "python",
      "name": "python3"
    },
    "language_info": {
      "codemirror_mode": {
        "name": "ipython",
        "version": 3
      },
      "file_extension": ".py",
      "mimetype": "text/x-python",
      "name": "python",
      "nbconvert_exporter": "python",
      "pygments_lexer": "ipython3",
      "version": "3.11.5"
    }
  },
  "nbformat": 4,
  "nbformat_minor": 5
}
